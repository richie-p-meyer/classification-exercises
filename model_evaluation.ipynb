{
 "cells": [
  {
   "cell_type": "code",
   "execution_count": 1,
   "id": "54751a73",
   "metadata": {},
   "outputs": [],
   "source": [
    "import pandas as pd\n",
    "from sklearn.metrics import confusion_matrix"
   ]
  },
  {
   "cell_type": "markdown",
   "id": "8bd1531c",
   "metadata": {},
   "source": [
    "|               | pred dog   | pred cat   |\n",
    "|:------------  |-----------:|-----------:|\n",
    "| actual dog    |         46 |         7  |\n",
    "| actual cat    |         13 |         34 |\n"
   ]
  },
  {
   "cell_type": "markdown",
   "id": "832eac12",
   "metadata": {},
   "source": [
    "Given the following confusion matrix, evaluate (by hand) the model's performance.\n",
    "Accuracy:\n",
    "(46+34)/(46+7+13+34) = .8\n",
    "\n",
    "Precision:\n",
    "TP(46)/(TP(46)+FP(13) = .78\n",
    "\n",
    "Recall:\n",
    "TP(46)/TP(46)+FN(7) = .87\n",
    "\n",
    "In the context of this problem, what is a false positive?  \n",
    "You get to choose what constitues positive and negative. If I use dog as the positive, then a false positive is if I predict dog but it's actually a cat.\n",
    "\n",
    "In the context of this problem, what is a false negative?   \n",
    "A false negative is if I predict cat but it's actually a dog.  \n",
    "\n",
    "How would you describe this model?   \n",
    "It's all relative - depends on what you're trying to accomplish  "
   ]
  },
  {
   "cell_type": "code",
   "execution_count": 36,
   "id": "d0ae109e",
   "metadata": {},
   "outputs": [
    {
     "data": {
      "text/html": [
       "<div>\n",
       "<style scoped>\n",
       "    .dataframe tbody tr th:only-of-type {\n",
       "        vertical-align: middle;\n",
       "    }\n",
       "\n",
       "    .dataframe tbody tr th {\n",
       "        vertical-align: top;\n",
       "    }\n",
       "\n",
       "    .dataframe thead th {\n",
       "        text-align: right;\n",
       "    }\n",
       "</style>\n",
       "<table border=\"1\" class=\"dataframe\">\n",
       "  <thead>\n",
       "    <tr style=\"text-align: right;\">\n",
       "      <th></th>\n",
       "      <th>actual</th>\n",
       "      <th>model1</th>\n",
       "      <th>model2</th>\n",
       "      <th>model3</th>\n",
       "      <th>baseline</th>\n",
       "    </tr>\n",
       "  </thead>\n",
       "  <tbody>\n",
       "    <tr>\n",
       "      <th>0</th>\n",
       "      <td>No Defect</td>\n",
       "      <td>No Defect</td>\n",
       "      <td>Defect</td>\n",
       "      <td>No Defect</td>\n",
       "      <td>No Defect</td>\n",
       "    </tr>\n",
       "    <tr>\n",
       "      <th>1</th>\n",
       "      <td>No Defect</td>\n",
       "      <td>No Defect</td>\n",
       "      <td>Defect</td>\n",
       "      <td>Defect</td>\n",
       "      <td>No Defect</td>\n",
       "    </tr>\n",
       "    <tr>\n",
       "      <th>2</th>\n",
       "      <td>No Defect</td>\n",
       "      <td>No Defect</td>\n",
       "      <td>Defect</td>\n",
       "      <td>No Defect</td>\n",
       "      <td>No Defect</td>\n",
       "    </tr>\n",
       "    <tr>\n",
       "      <th>3</th>\n",
       "      <td>No Defect</td>\n",
       "      <td>Defect</td>\n",
       "      <td>Defect</td>\n",
       "      <td>Defect</td>\n",
       "      <td>No Defect</td>\n",
       "    </tr>\n",
       "    <tr>\n",
       "      <th>4</th>\n",
       "      <td>No Defect</td>\n",
       "      <td>No Defect</td>\n",
       "      <td>Defect</td>\n",
       "      <td>No Defect</td>\n",
       "      <td>No Defect</td>\n",
       "    </tr>\n",
       "  </tbody>\n",
       "</table>\n",
       "</div>"
      ],
      "text/plain": [
       "      actual     model1  model2     model3   baseline\n",
       "0  No Defect  No Defect  Defect  No Defect  No Defect\n",
       "1  No Defect  No Defect  Defect     Defect  No Defect\n",
       "2  No Defect  No Defect  Defect  No Defect  No Defect\n",
       "3  No Defect     Defect  Defect     Defect  No Defect\n",
       "4  No Defect  No Defect  Defect  No Defect  No Defect"
      ]
     },
     "execution_count": 36,
     "metadata": {},
     "output_type": "execute_result"
    }
   ],
   "source": [
    "df = pd.read_csv('c3.csv')\n",
    "df['baseline']='No Defect'\n",
    "df.head()"
   ]
  },
  {
   "cell_type": "code",
   "execution_count": 40,
   "id": "cc040c76",
   "metadata": {},
   "outputs": [
    {
     "data": {
      "text/plain": [
       "(0.96, 0.94, 0.97, 0.92)"
      ]
     },
     "execution_count": 40,
     "metadata": {},
     "output_type": "execute_result"
    }
   ],
   "source": [
    "subset = df[df.model1 == 'No Defect']\n",
    "mod1 = (subset.model1 == subset.actual).mean()\n",
    "\n",
    "subset = df[df.model2 == 'No Defect']\n",
    "mod2 = (subset.model2 == subset.actual).mean()\n",
    "\n",
    "subset = df[df.model3 == 'No Defect']\n",
    "mod3 = (subset.model3 == subset.actual).mean()\n",
    "\n",
    "subset = df[df.baseline == 'No Defect']\n",
    "base = (subset.baseline == subset.actual).mean()\n",
    "\n",
    "round(mod1,2),round(mod2,2),round(mod3,2),round(base,2)"
   ]
  },
  {
   "cell_type": "markdown",
   "id": "bf284944",
   "metadata": {},
   "source": [
    "An internal team wants to investigate the cause of the manufacturing defects. They tell you that they want to identify as many of the ducks that have a defect as possible. Which evaluation metric would be appropriate here? Which model would be the best fit for this use case?\n",
    "\n",
    "-- We would want to use precision which is the number of positive prediction that are correct. Model 3 scores best with a rate of 97%.\n",
    "\n"
   ]
  },
  {
   "cell_type": "markdown",
   "id": "c4d3efc6",
   "metadata": {},
   "source": [
    "Recently several stories in the local news have come out highlighting customers who received a rubber duck with a defect, and portraying C3 in a bad light. The PR team has decided to launch a program that gives customers with a defective duck a vacation to Hawaii. They need you to predict which ducks will have defects, but tell you the really don't want to accidentally give out a vacation package when the duck really doesn't have a defect. Which evaluation metric would be appropriate here? Which model would be the best fit for this use case?\n",
    "\n",
    "We want to predict if the duck has a defect, so that that's our positive. A false positive (we say it has a defect but it doesn't) is fine. What we don't want is a false negative (we say no defect, but it has a defect). Therefore, we want to use Recall - we really care about identifying positive cases. Our best model is Model 3 at 81%."
   ]
  },
  {
   "cell_type": "code",
   "execution_count": 44,
   "id": "6182c1ef",
   "metadata": {},
   "outputs": [
    {
     "data": {
      "text/plain": [
       "(0.5, 0.56, 0.81, 0.0)"
      ]
     },
     "execution_count": 44,
     "metadata": {},
     "output_type": "execute_result"
    }
   ],
   "source": [
    "subset = df[df['actual']=='Defect']\n",
    "r1 = (subset.actual==subset.model1).mean()\n",
    "r2 = (subset.actual==subset.model2).mean()\n",
    "r3 = (subset.actual==subset.model3).mean()\n",
    "b = (subset.actual==subset.baseline).mean()\n",
    "round(r1,2),round(r2,2),round(r3,2),round(b,2)"
   ]
  },
  {
   "cell_type": "code",
   "execution_count": 45,
   "id": "496f7daf",
   "metadata": {},
   "outputs": [
    {
     "data": {
      "text/html": [
       "<div>\n",
       "<style scoped>\n",
       "    .dataframe tbody tr th:only-of-type {\n",
       "        vertical-align: middle;\n",
       "    }\n",
       "\n",
       "    .dataframe tbody tr th {\n",
       "        vertical-align: top;\n",
       "    }\n",
       "\n",
       "    .dataframe thead th {\n",
       "        text-align: right;\n",
       "    }\n",
       "</style>\n",
       "<table border=\"1\" class=\"dataframe\">\n",
       "  <thead>\n",
       "    <tr style=\"text-align: right;\">\n",
       "      <th></th>\n",
       "      <th>actual</th>\n",
       "      <th>model1</th>\n",
       "      <th>model2</th>\n",
       "      <th>model3</th>\n",
       "      <th>model4</th>\n",
       "    </tr>\n",
       "  </thead>\n",
       "  <tbody>\n",
       "    <tr>\n",
       "      <th>0</th>\n",
       "      <td>cat</td>\n",
       "      <td>cat</td>\n",
       "      <td>dog</td>\n",
       "      <td>cat</td>\n",
       "      <td>dog</td>\n",
       "    </tr>\n",
       "    <tr>\n",
       "      <th>1</th>\n",
       "      <td>dog</td>\n",
       "      <td>dog</td>\n",
       "      <td>cat</td>\n",
       "      <td>cat</td>\n",
       "      <td>dog</td>\n",
       "    </tr>\n",
       "    <tr>\n",
       "      <th>2</th>\n",
       "      <td>dog</td>\n",
       "      <td>cat</td>\n",
       "      <td>cat</td>\n",
       "      <td>cat</td>\n",
       "      <td>dog</td>\n",
       "    </tr>\n",
       "    <tr>\n",
       "      <th>3</th>\n",
       "      <td>dog</td>\n",
       "      <td>dog</td>\n",
       "      <td>dog</td>\n",
       "      <td>cat</td>\n",
       "      <td>dog</td>\n",
       "    </tr>\n",
       "    <tr>\n",
       "      <th>4</th>\n",
       "      <td>cat</td>\n",
       "      <td>cat</td>\n",
       "      <td>cat</td>\n",
       "      <td>dog</td>\n",
       "      <td>dog</td>\n",
       "    </tr>\n",
       "  </tbody>\n",
       "</table>\n",
       "</div>"
      ],
      "text/plain": [
       "  actual model1 model2 model3 model4\n",
       "0    cat    cat    dog    cat    dog\n",
       "1    dog    dog    cat    cat    dog\n",
       "2    dog    cat    cat    cat    dog\n",
       "3    dog    dog    dog    cat    dog\n",
       "4    cat    cat    cat    dog    dog"
      ]
     },
     "execution_count": 45,
     "metadata": {},
     "output_type": "execute_result"
    }
   ],
   "source": [
    "df = pd.read_csv('gives_you_paws.csv')\n",
    "df.head()"
   ]
  },
  {
   "cell_type": "markdown",
   "id": "caea2e6b",
   "metadata": {},
   "source": [
    "Given this dataset, use pandas to create a baseline model (i.e. a model that just predicts the most common class) and answer the following questions:"
   ]
  },
  {
   "cell_type": "code",
   "execution_count": 47,
   "id": "cd183c04",
   "metadata": {},
   "outputs": [],
   "source": [
    "df['baseline'] = 'dog'"
   ]
  },
  {
   "cell_type": "markdown",
   "id": "73feb4a2",
   "metadata": {},
   "source": [
    "In terms of accuracy, how do the various models compare to the baseline model? Are any of the models better than the baseline?"
   ]
  },
  {
   "cell_type": "code",
   "execution_count": 49,
   "id": "c0fc34bb",
   "metadata": {},
   "outputs": [
    {
     "data": {
      "text/plain": [
       "(0.81, 0.63, 0.51, 0.74, 0.65)"
      ]
     },
     "execution_count": 49,
     "metadata": {},
     "output_type": "execute_result"
    }
   ],
   "source": [
    "m1 = (df.model1 == df.actual).mean()\n",
    "m2 = (df.model2 == df.actual).mean()\n",
    "m3 = (df.model3 == df.actual).mean()\n",
    "m4 = (df.model4 == df.actual).mean()\n",
    "b = (df.baseline == df.actual).mean()\n",
    "round(m1,2),round(m2,2),round(m3,2),round(m4,2),round(b,2)"
   ]
  },
  {
   "cell_type": "markdown",
   "id": "9df17269",
   "metadata": {},
   "source": [
    "Model1 - 81% and Model4 - 74% both beat baseline accuracy at 65%"
   ]
  },
  {
   "cell_type": "markdown",
   "id": "5ebbc6f5",
   "metadata": {},
   "source": [
    "Suppose you are working on a team that solely deals with dog pictures. Which of these models would you recommend?\n"
   ]
  },
  {
   "cell_type": "code",
   "execution_count": 52,
   "id": "7d3d854c",
   "metadata": {},
   "outputs": [
    {
     "data": {
      "text/plain": [
       "(0.803318992009834,\n",
       " 0.49078057775046097,\n",
       " 0.5086047940995697,\n",
       " 0.9557467732022127)"
      ]
     },
     "execution_count": 52,
     "metadata": {},
     "output_type": "execute_result"
    }
   ],
   "source": [
    "subset = df[df['actual']=='dog']\n",
    "d1 = (subset.actual==subset.model1).mean()\n",
    "d2 = (subset.actual==subset.model2).mean()\n",
    "d3 = (subset.actual==subset.model3).mean()\n",
    "d4 = (subset.actual==subset.model4).mean()\n",
    "d1,d2,d3,d4\n",
    "\n"
   ]
  },
  {
   "cell_type": "markdown",
   "id": "0b74f7a3",
   "metadata": {},
   "source": [
    "Model4 predicts 'dog' the best"
   ]
  },
  {
   "cell_type": "markdown",
   "id": "d995841d",
   "metadata": {},
   "source": [
    "Suppose you are working on a team that solely deals with cat pictures. Which of these models would you recommend?"
   ]
  },
  {
   "cell_type": "code",
   "execution_count": 53,
   "id": "06eec4fa",
   "metadata": {},
   "outputs": [
    {
     "data": {
      "text/plain": [
       "(0.8150057273768614,\n",
       " 0.8906071019473081,\n",
       " 0.5114547537227949,\n",
       " 0.34536082474226804)"
      ]
     },
     "execution_count": 53,
     "metadata": {},
     "output_type": "execute_result"
    }
   ],
   "source": [
    "subset = df[df['actual']=='cat']\n",
    "c1 = (subset.actual==subset.model1).mean()\n",
    "c2 = (subset.actual==subset.model2).mean()\n",
    "c3 = (subset.actual==subset.model3).mean()\n",
    "c4 = (subset.actual==subset.model4).mean()\n",
    "c1,c2,c3,c4"
   ]
  },
  {
   "cell_type": "markdown",
   "id": "d3250ffa",
   "metadata": {},
   "source": [
    "Model 2 predicts cats the best"
   ]
  },
  {
   "cell_type": "code",
   "execution_count": null,
   "id": "14a42336",
   "metadata": {},
   "outputs": [],
   "source": [
    "sklearn.metrics.accuracy_score"
   ]
  },
  {
   "cell_type": "code",
   "execution_count": null,
   "id": "855ca634",
   "metadata": {},
   "outputs": [],
   "source": [
    "sklearn.metrics.precision_score"
   ]
  },
  {
   "cell_type": "code",
   "execution_count": null,
   "id": "acf78dde",
   "metadata": {},
   "outputs": [],
   "source": [
    "sklearn.metrics.recall_score"
   ]
  },
  {
   "cell_type": "code",
   "execution_count": null,
   "id": "bb3386c7",
   "metadata": {},
   "outputs": [],
   "source": [
    "sklearn.metrics.classification_report"
   ]
  }
 ],
 "metadata": {
  "kernelspec": {
   "display_name": "Python 3 (ipykernel)",
   "language": "python",
   "name": "python3"
  },
  "language_info": {
   "codemirror_mode": {
    "name": "ipython",
    "version": 3
   },
   "file_extension": ".py",
   "mimetype": "text/x-python",
   "name": "python",
   "nbconvert_exporter": "python",
   "pygments_lexer": "ipython3",
   "version": "3.9.7"
  }
 },
 "nbformat": 4,
 "nbformat_minor": 5
}
