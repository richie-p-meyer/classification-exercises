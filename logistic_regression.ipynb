{
 "cells": [
  {
   "cell_type": "code",
   "execution_count": 1,
   "id": "7949907d",
   "metadata": {},
   "outputs": [],
   "source": [
    "import numpy as np\n",
    "import pandas as pd\n",
    "\n",
    "from sklearn.model_selection import train_test_split\n",
    "from sklearn.linear_model import LogisticRegression\n",
    "from sklearn.metrics import classification_report\n",
    "from sklearn.metrics import confusion_matrix"
   ]
  },
  {
   "cell_type": "code",
   "execution_count": 2,
   "id": "a062ce4f",
   "metadata": {},
   "outputs": [],
   "source": [
    "import prepare\n",
    "import acquire"
   ]
  },
  {
   "cell_type": "code",
   "execution_count": 3,
   "id": "3c4ece79",
   "metadata": {},
   "outputs": [
    {
     "data": {
      "text/html": [
       "<div>\n",
       "<style scoped>\n",
       "    .dataframe tbody tr th:only-of-type {\n",
       "        vertical-align: middle;\n",
       "    }\n",
       "\n",
       "    .dataframe tbody tr th {\n",
       "        vertical-align: top;\n",
       "    }\n",
       "\n",
       "    .dataframe thead th {\n",
       "        text-align: right;\n",
       "    }\n",
       "</style>\n",
       "<table border=\"1\" class=\"dataframe\">\n",
       "  <thead>\n",
       "    <tr style=\"text-align: right;\">\n",
       "      <th></th>\n",
       "      <th>survived</th>\n",
       "      <th>pclass</th>\n",
       "      <th>age</th>\n",
       "      <th>sibsp</th>\n",
       "      <th>parch</th>\n",
       "      <th>fare</th>\n",
       "      <th>alone</th>\n",
       "      <th>sex_male</th>\n",
       "      <th>embark_town_Queenstown</th>\n",
       "      <th>embark_town_Southampton</th>\n",
       "    </tr>\n",
       "  </thead>\n",
       "  <tbody>\n",
       "    <tr>\n",
       "      <th>0</th>\n",
       "      <td>0</td>\n",
       "      <td>3</td>\n",
       "      <td>22.0</td>\n",
       "      <td>1</td>\n",
       "      <td>0</td>\n",
       "      <td>7.2500</td>\n",
       "      <td>0</td>\n",
       "      <td>1</td>\n",
       "      <td>0</td>\n",
       "      <td>1</td>\n",
       "    </tr>\n",
       "    <tr>\n",
       "      <th>1</th>\n",
       "      <td>1</td>\n",
       "      <td>1</td>\n",
       "      <td>38.0</td>\n",
       "      <td>1</td>\n",
       "      <td>0</td>\n",
       "      <td>71.2833</td>\n",
       "      <td>0</td>\n",
       "      <td>0</td>\n",
       "      <td>0</td>\n",
       "      <td>0</td>\n",
       "    </tr>\n",
       "    <tr>\n",
       "      <th>2</th>\n",
       "      <td>1</td>\n",
       "      <td>3</td>\n",
       "      <td>26.0</td>\n",
       "      <td>0</td>\n",
       "      <td>0</td>\n",
       "      <td>7.9250</td>\n",
       "      <td>1</td>\n",
       "      <td>0</td>\n",
       "      <td>0</td>\n",
       "      <td>1</td>\n",
       "    </tr>\n",
       "    <tr>\n",
       "      <th>3</th>\n",
       "      <td>1</td>\n",
       "      <td>1</td>\n",
       "      <td>35.0</td>\n",
       "      <td>1</td>\n",
       "      <td>0</td>\n",
       "      <td>53.1000</td>\n",
       "      <td>0</td>\n",
       "      <td>0</td>\n",
       "      <td>0</td>\n",
       "      <td>1</td>\n",
       "    </tr>\n",
       "    <tr>\n",
       "      <th>4</th>\n",
       "      <td>0</td>\n",
       "      <td>3</td>\n",
       "      <td>35.0</td>\n",
       "      <td>0</td>\n",
       "      <td>0</td>\n",
       "      <td>8.0500</td>\n",
       "      <td>1</td>\n",
       "      <td>1</td>\n",
       "      <td>0</td>\n",
       "      <td>1</td>\n",
       "    </tr>\n",
       "  </tbody>\n",
       "</table>\n",
       "</div>"
      ],
      "text/plain": [
       "   survived  pclass   age  sibsp  parch     fare  alone  sex_male  \\\n",
       "0         0       3  22.0      1      0   7.2500      0         1   \n",
       "1         1       1  38.0      1      0  71.2833      0         0   \n",
       "2         1       3  26.0      0      0   7.9250      1         0   \n",
       "3         1       1  35.0      1      0  53.1000      0         0   \n",
       "4         0       3  35.0      0      0   8.0500      1         1   \n",
       "\n",
       "   embark_town_Queenstown  embark_town_Southampton  \n",
       "0                       0                        1  \n",
       "1                       0                        0  \n",
       "2                       0                        1  \n",
       "3                       0                        1  \n",
       "4                       0                        1  "
      ]
     },
     "execution_count": 3,
     "metadata": {},
     "output_type": "execute_result"
    }
   ],
   "source": [
    "df = acquire.get_titanic_data()\n",
    "df = prepare.prep_titanic(df)\n",
    "df.head()"
   ]
  },
  {
   "cell_type": "code",
   "execution_count": 4,
   "id": "85879882",
   "metadata": {},
   "outputs": [
    {
     "data": {
      "text/plain": [
       "0.5955056179775281"
      ]
     },
     "execution_count": 4,
     "metadata": {},
     "output_type": "execute_result"
    }
   ],
   "source": [
    "(df.survived == 0).sum()/df.shape[0]"
   ]
  },
  {
   "cell_type": "markdown",
   "id": "7ebd0b9c",
   "metadata": {},
   "source": [
    "Our baseline is 62% with predicting a 0 for survived"
   ]
  },
  {
   "cell_type": "code",
   "execution_count": 5,
   "id": "7e360aaa",
   "metadata": {},
   "outputs": [],
   "source": [
    "train,val,test = prepare.split_data(df,'survived')"
   ]
  },
  {
   "cell_type": "code",
   "execution_count": 6,
   "id": "abdcb119",
   "metadata": {},
   "outputs": [],
   "source": [
    "X_train = train.drop(columns='survived')\n",
    "y_train = train['survived']\n",
    "\n",
    "X_val = val.drop(columns='survived')\n",
    "y_val = val['survived']\n",
    "\n",
    "X_test = test.drop(columns='survived')\n",
    "y_test = test['survived']"
   ]
  },
  {
   "cell_type": "markdown",
   "id": "f10dcdb8",
   "metadata": {},
   "source": [
    "Create a model that includes only age, fare, and pclass. Does this model perform better than your baseline?"
   ]
  },
  {
   "cell_type": "code",
   "execution_count": 7,
   "id": "7a83058f",
   "metadata": {},
   "outputs": [],
   "source": [
    "lr = LogisticRegression(C=1, random_state=21, intercept_scaling=1, solver='lbfgs',max_iter=2000)"
   ]
  },
  {
   "cell_type": "code",
   "execution_count": 8,
   "id": "8ecd0ee2",
   "metadata": {},
   "outputs": [
    {
     "data": {
      "text/plain": [
       "LogisticRegression(C=1, max_iter=2000, random_state=21)"
      ]
     },
     "execution_count": 8,
     "metadata": {},
     "output_type": "execute_result"
    }
   ],
   "source": [
    "lr.fit(X_train[['age','fare','pclass']],y_train)"
   ]
  },
  {
   "cell_type": "code",
   "execution_count": 9,
   "id": "7955066b",
   "metadata": {},
   "outputs": [],
   "source": [
    "y_pred = lr.predict(X_train[['age','fare','pclass']])"
   ]
  },
  {
   "cell_type": "code",
   "execution_count": 10,
   "id": "b96a09a8",
   "metadata": {},
   "outputs": [
    {
     "name": "stdout",
     "output_type": "stream",
     "text": [
      "[[283  56]\n",
      " [109 121]]\n",
      "              precision    recall  f1-score   support\n",
      "\n",
      "           0       0.72      0.83      0.77       339\n",
      "           1       0.68      0.53      0.59       230\n",
      "\n",
      "    accuracy                           0.71       569\n",
      "   macro avg       0.70      0.68      0.68       569\n",
      "weighted avg       0.71      0.71      0.70       569\n",
      "\n"
     ]
    }
   ],
   "source": [
    "print(confusion_matrix(y_train,y_pred))\n",
    "print(classification_report(y_train,y_pred))"
   ]
  },
  {
   "cell_type": "markdown",
   "id": "005ca5a8",
   "metadata": {},
   "source": [
    "This model performs better than our Baseline with an accuracy of 71%"
   ]
  },
  {
   "cell_type": "markdown",
   "id": "6a262345",
   "metadata": {},
   "source": [
    "Include sex in your model as well"
   ]
  },
  {
   "cell_type": "code",
   "execution_count": 11,
   "id": "e5bacb78",
   "metadata": {},
   "outputs": [
    {
     "name": "stdout",
     "output_type": "stream",
     "text": [
      "[[286  53]\n",
      " [ 58 172]]\n",
      "              precision    recall  f1-score   support\n",
      "\n",
      "           0       0.83      0.84      0.84       339\n",
      "           1       0.76      0.75      0.76       230\n",
      "\n",
      "    accuracy                           0.80       569\n",
      "   macro avg       0.80      0.80      0.80       569\n",
      "weighted avg       0.80      0.80      0.80       569\n",
      "\n"
     ]
    }
   ],
   "source": [
    "lr.fit(X_train[['sex_male','age','fare','pclass']],y_train)\n",
    "y_pred = lr.predict(X_train[['sex_male','age','fare','pclass']])\n",
    "print(confusion_matrix(y_train,y_pred))\n",
    "print(classification_report(y_train,y_pred))"
   ]
  },
  {
   "cell_type": "markdown",
   "id": "54baf0a9",
   "metadata": {},
   "source": [
    "Adding sex into the model increased our accuracy from 71% to 80%"
   ]
  },
  {
   "cell_type": "code",
   "execution_count": 12,
   "id": "f5412089",
   "metadata": {},
   "outputs": [
    {
     "name": "stdout",
     "output_type": "stream",
     "text": [
      "[[288  51]\n",
      " [ 58 172]]\n",
      "              precision    recall  f1-score   support\n",
      "\n",
      "           0       0.83      0.85      0.84       339\n",
      "           1       0.77      0.75      0.76       230\n",
      "\n",
      "    accuracy                           0.81       569\n",
      "   macro avg       0.80      0.80      0.80       569\n",
      "weighted avg       0.81      0.81      0.81       569\n",
      "\n"
     ]
    }
   ],
   "source": [
    "lr.fit(X_train[['alone','sex_male','age','fare','pclass']],y_train)\n",
    "y_pred = lr.predict(X_train[['alone','sex_male','age','fare','pclass']])\n",
    "print(confusion_matrix(y_train,y_pred))\n",
    "print(classification_report(y_train,y_pred))"
   ]
  },
  {
   "cell_type": "markdown",
   "id": "391c8d0c",
   "metadata": {},
   "source": [
    "Adding 'alone' increased accuracy from 80% to 81%"
   ]
  },
  {
   "cell_type": "code",
   "execution_count": 13,
   "id": "7c66b194",
   "metadata": {},
   "outputs": [
    {
     "name": "stdout",
     "output_type": "stream",
     "text": [
      "[[291  48]\n",
      " [ 62 168]]\n",
      "              precision    recall  f1-score   support\n",
      "\n",
      "           0       0.82      0.86      0.84       339\n",
      "           1       0.78      0.73      0.75       230\n",
      "\n",
      "    accuracy                           0.81       569\n",
      "   macro avg       0.80      0.79      0.80       569\n",
      "weighted avg       0.81      0.81      0.81       569\n",
      "\n"
     ]
    }
   ],
   "source": [
    "lr.fit(X_train,y_train)\n",
    "y_pred = lr.predict(X_train)\n",
    "print(confusion_matrix(y_train,y_pred))\n",
    "print(classification_report(y_train,y_pred))"
   ]
  },
  {
   "cell_type": "markdown",
   "id": "7b13f000",
   "metadata": {},
   "source": [
    "The accuracy score stayed the same using all column"
   ]
  },
  {
   "cell_type": "markdown",
   "id": "4d8eaac7",
   "metadata": {},
   "source": [
    "Let's run two different models on our validate set - a minimal and maximal approach"
   ]
  },
  {
   "cell_type": "code",
   "execution_count": 14,
   "id": "519161d1",
   "metadata": {},
   "outputs": [
    {
     "name": "stdout",
     "output_type": "stream",
     "text": [
      "[[47 12]\n",
      " [19 22]]\n",
      "              precision    recall  f1-score   support\n",
      "\n",
      "           0       0.71      0.80      0.75        59\n",
      "           1       0.65      0.54      0.59        41\n",
      "\n",
      "    accuracy                           0.69       100\n",
      "   macro avg       0.68      0.67      0.67       100\n",
      "weighted avg       0.69      0.69      0.68       100\n",
      "\n"
     ]
    }
   ],
   "source": [
    "lr.fit(X_train[['age','fare','pclass']],y_train)\n",
    "y_pred = lr.predict(X_val[['age','fare','pclass']])\n",
    "print(confusion_matrix(y_val,y_pred))\n",
    "print(classification_report(y_val,y_pred))"
   ]
  },
  {
   "cell_type": "markdown",
   "id": "10253dea",
   "metadata": {},
   "source": [
    "Using the features 'age', 'fare', and 'pclass' we achieved an accuracy of 69%"
   ]
  },
  {
   "cell_type": "code",
   "execution_count": 15,
   "id": "406b06be",
   "metadata": {},
   "outputs": [
    {
     "name": "stdout",
     "output_type": "stream",
     "text": [
      "[[54  5]\n",
      " [11 30]]\n",
      "              precision    recall  f1-score   support\n",
      "\n",
      "           0       0.83      0.92      0.87        59\n",
      "           1       0.86      0.73      0.79        41\n",
      "\n",
      "    accuracy                           0.84       100\n",
      "   macro avg       0.84      0.82      0.83       100\n",
      "weighted avg       0.84      0.84      0.84       100\n",
      "\n"
     ]
    }
   ],
   "source": [
    "lr.fit(X_train,y_train)\n",
    "y_pred = lr.predict(X_val)\n",
    "print(confusion_matrix(y_val,y_pred))\n",
    "print(classification_report(y_val,y_pred))"
   ]
  },
  {
   "cell_type": "markdown",
   "id": "d7656014",
   "metadata": {},
   "source": [
    "Using all features we achieved an accuracy of 84% - We will now use this on our Test set"
   ]
  },
  {
   "cell_type": "code",
   "execution_count": 17,
   "id": "ddd8ce10",
   "metadata": {},
   "outputs": [
    {
     "name": "stdout",
     "output_type": "stream",
     "text": [
      "[[21  5]\n",
      " [ 4 13]]\n",
      "              precision    recall  f1-score   support\n",
      "\n",
      "           0       0.84      0.81      0.82        26\n",
      "           1       0.72      0.76      0.74        17\n",
      "\n",
      "    accuracy                           0.79        43\n",
      "   macro avg       0.78      0.79      0.78        43\n",
      "weighted avg       0.79      0.79      0.79        43\n",
      "\n"
     ]
    }
   ],
   "source": [
    "y_pred = lr.predict(X_test)\n",
    "print(confusion_matrix(y_test,y_pred))\n",
    "print(classification_report(y_test,y_pred))"
   ]
  },
  {
   "cell_type": "markdown",
   "id": "5cfbc673",
   "metadata": {},
   "source": [
    "All features achieved a 79% accuracy score on the Test set. This fell from 84% on the Validate set. This should be a good marker of how well we can expect our model to do moving forward."
   ]
  },
  {
   "cell_type": "code",
   "execution_count": null,
   "id": "6fa42f29",
   "metadata": {},
   "outputs": [],
   "source": []
  }
 ],
 "metadata": {
  "kernelspec": {
   "display_name": "Python 3 (ipykernel)",
   "language": "python",
   "name": "python3"
  },
  "language_info": {
   "codemirror_mode": {
    "name": "ipython",
    "version": 3
   },
   "file_extension": ".py",
   "mimetype": "text/x-python",
   "name": "python",
   "nbconvert_exporter": "python",
   "pygments_lexer": "ipython3",
   "version": "3.9.7"
  }
 },
 "nbformat": 4,
 "nbformat_minor": 5
}
