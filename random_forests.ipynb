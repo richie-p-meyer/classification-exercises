{
 "cells": [
  {
   "cell_type": "code",
   "execution_count": 1,
   "id": "efdab844",
   "metadata": {},
   "outputs": [],
   "source": [
    "import pandas as pd\n",
    "import matplotlib.pyplot as plt\n",
    "\n",
    "import env\n",
    "import acquire\n",
    "import prepare"
   ]
  },
  {
   "cell_type": "code",
   "execution_count": 2,
   "id": "a4ed8153",
   "metadata": {},
   "outputs": [],
   "source": [
    "from sklearn.model_selection import train_test_split\n",
    "from sklearn.ensemble import RandomForestClassifier\n",
    "from sklearn.metrics import classification_report\n",
    "from sklearn.metrics import confusion_matrix"
   ]
  },
  {
   "cell_type": "code",
   "execution_count": 3,
   "id": "b04d8539",
   "metadata": {},
   "outputs": [],
   "source": [
    "SEED = 21"
   ]
  },
  {
   "cell_type": "code",
   "execution_count": 4,
   "id": "a08e951d",
   "metadata": {},
   "outputs": [
    {
     "data": {
      "text/html": [
       "<div>\n",
       "<style scoped>\n",
       "    .dataframe tbody tr th:only-of-type {\n",
       "        vertical-align: middle;\n",
       "    }\n",
       "\n",
       "    .dataframe tbody tr th {\n",
       "        vertical-align: top;\n",
       "    }\n",
       "\n",
       "    .dataframe thead th {\n",
       "        text-align: right;\n",
       "    }\n",
       "</style>\n",
       "<table border=\"1\" class=\"dataframe\">\n",
       "  <thead>\n",
       "    <tr style=\"text-align: right;\">\n",
       "      <th></th>\n",
       "      <th>survived</th>\n",
       "      <th>pclass</th>\n",
       "      <th>sibsp</th>\n",
       "      <th>parch</th>\n",
       "      <th>fare</th>\n",
       "      <th>alone</th>\n",
       "      <th>sex_female</th>\n",
       "      <th>sex_male</th>\n",
       "      <th>embark_town_Cherbourg</th>\n",
       "      <th>embark_town_Queenstown</th>\n",
       "      <th>embark_town_Southampton</th>\n",
       "    </tr>\n",
       "  </thead>\n",
       "  <tbody>\n",
       "    <tr>\n",
       "      <th>0</th>\n",
       "      <td>0</td>\n",
       "      <td>3</td>\n",
       "      <td>1</td>\n",
       "      <td>0</td>\n",
       "      <td>7.2500</td>\n",
       "      <td>0</td>\n",
       "      <td>0</td>\n",
       "      <td>1</td>\n",
       "      <td>0</td>\n",
       "      <td>0</td>\n",
       "      <td>1</td>\n",
       "    </tr>\n",
       "    <tr>\n",
       "      <th>1</th>\n",
       "      <td>1</td>\n",
       "      <td>1</td>\n",
       "      <td>1</td>\n",
       "      <td>0</td>\n",
       "      <td>71.2833</td>\n",
       "      <td>0</td>\n",
       "      <td>1</td>\n",
       "      <td>0</td>\n",
       "      <td>1</td>\n",
       "      <td>0</td>\n",
       "      <td>0</td>\n",
       "    </tr>\n",
       "    <tr>\n",
       "      <th>2</th>\n",
       "      <td>1</td>\n",
       "      <td>3</td>\n",
       "      <td>0</td>\n",
       "      <td>0</td>\n",
       "      <td>7.9250</td>\n",
       "      <td>1</td>\n",
       "      <td>1</td>\n",
       "      <td>0</td>\n",
       "      <td>0</td>\n",
       "      <td>0</td>\n",
       "      <td>1</td>\n",
       "    </tr>\n",
       "    <tr>\n",
       "      <th>3</th>\n",
       "      <td>1</td>\n",
       "      <td>1</td>\n",
       "      <td>1</td>\n",
       "      <td>0</td>\n",
       "      <td>53.1000</td>\n",
       "      <td>0</td>\n",
       "      <td>1</td>\n",
       "      <td>0</td>\n",
       "      <td>0</td>\n",
       "      <td>0</td>\n",
       "      <td>1</td>\n",
       "    </tr>\n",
       "    <tr>\n",
       "      <th>4</th>\n",
       "      <td>0</td>\n",
       "      <td>3</td>\n",
       "      <td>0</td>\n",
       "      <td>0</td>\n",
       "      <td>8.0500</td>\n",
       "      <td>1</td>\n",
       "      <td>0</td>\n",
       "      <td>1</td>\n",
       "      <td>0</td>\n",
       "      <td>0</td>\n",
       "      <td>1</td>\n",
       "    </tr>\n",
       "  </tbody>\n",
       "</table>\n",
       "</div>"
      ],
      "text/plain": [
       "   survived  pclass  sibsp  parch     fare  alone  sex_female  sex_male  \\\n",
       "0         0       3      1      0   7.2500      0           0         1   \n",
       "1         1       1      1      0  71.2833      0           1         0   \n",
       "2         1       3      0      0   7.9250      1           1         0   \n",
       "3         1       1      1      0  53.1000      0           1         0   \n",
       "4         0       3      0      0   8.0500      1           0         1   \n",
       "\n",
       "   embark_town_Cherbourg  embark_town_Queenstown  embark_town_Southampton  \n",
       "0                      0                       0                        1  \n",
       "1                      1                       0                        0  \n",
       "2                      0                       0                        1  \n",
       "3                      0                       0                        1  \n",
       "4                      0                       0                        1  "
      ]
     },
     "execution_count": 4,
     "metadata": {},
     "output_type": "execute_result"
    }
   ],
   "source": [
    "df = acquire.get_titanic_data()\n",
    "df = prepare.prep_titanic(df)\n",
    "df = df.drop(columns=['sex','embark_town'])\n",
    "df.head()"
   ]
  },
  {
   "cell_type": "code",
   "execution_count": 6,
   "id": "8aa5008e",
   "metadata": {},
   "outputs": [
    {
     "data": {
      "text/plain": [
       "((711, 11), (124, 11), (54, 11))"
      ]
     },
     "execution_count": 6,
     "metadata": {},
     "output_type": "execute_result"
    }
   ],
   "source": [
    "train, val, test = prepare.split_data(df,target='survived')\n",
    "train.shape,val.shape,test.shape"
   ]
  },
  {
   "cell_type": "code",
   "execution_count": 7,
   "id": "4fd0178a",
   "metadata": {},
   "outputs": [],
   "source": [
    "X_train = train.drop(columns='survived')\n",
    "y_train = train.survived\n",
    "\n",
    "X_val = val.drop(columns='survived')\n",
    "y_val = val.survived\n",
    "\n",
    "X_test = test.drop(columns='survived')\n",
    "y_test = test.survived"
   ]
  },
  {
   "cell_type": "markdown",
   "id": "82a13106",
   "metadata": {},
   "source": [
    "Create RandomForest object and fit it to training data"
   ]
  },
  {
   "cell_type": "code",
   "execution_count": 9,
   "id": "567a42eb",
   "metadata": {},
   "outputs": [],
   "source": [
    "rf = RandomForestClassifier(min_samples_leaf = 1, max_depth = 10)\n",
    "rf = rf.fit(X_train,y_train)"
   ]
  },
  {
   "cell_type": "code",
   "execution_count": 13,
   "id": "70f02cc6",
   "metadata": {},
   "outputs": [],
   "source": [
    "y_pred = rf.predict(X_train)"
   ]
  },
  {
   "cell_type": "markdown",
   "id": "240c5f91",
   "metadata": {},
   "source": [
    "Create Confusion Matrix"
   ]
  },
  {
   "cell_type": "code",
   "execution_count": 14,
   "id": "ff4fc64e",
   "metadata": {},
   "outputs": [
    {
     "data": {
      "text/plain": [
       "array([[427,  12],\n",
       "       [ 47, 225]])"
      ]
     },
     "execution_count": 14,
     "metadata": {},
     "output_type": "execute_result"
    }
   ],
   "source": [
    "confusion_matrix(y_train,y_pred)"
   ]
  },
  {
   "cell_type": "markdown",
   "id": "3eee8cc6",
   "metadata": {},
   "source": [
    "Run Classification Report"
   ]
  },
  {
   "cell_type": "code",
   "execution_count": 16,
   "id": "16db8d91",
   "metadata": {},
   "outputs": [
    {
     "name": "stdout",
     "output_type": "stream",
     "text": [
      "              precision    recall  f1-score   support\n",
      "\n",
      "           0       0.90      0.97      0.94       439\n",
      "           1       0.95      0.83      0.88       272\n",
      "\n",
      "    accuracy                           0.92       711\n",
      "   macro avg       0.93      0.90      0.91       711\n",
      "weighted avg       0.92      0.92      0.92       711\n",
      "\n"
     ]
    }
   ],
   "source": [
    "print(classification_report(y_train,y_pred))"
   ]
  },
  {
   "cell_type": "code",
   "execution_count": 17,
   "id": "de26f1a0",
   "metadata": {},
   "outputs": [],
   "source": [
    "y_pred_proba = rf.predict_proba(X_train)"
   ]
  },
  {
   "cell_type": "markdown",
   "id": "65177482",
   "metadata": {},
   "source": [
    "How well do we predict Validate test set?"
   ]
  },
  {
   "cell_type": "code",
   "execution_count": 21,
   "id": "9eac1827",
   "metadata": {},
   "outputs": [
    {
     "name": "stdout",
     "output_type": "stream",
     "text": [
      "              precision    recall  f1-score   support\n",
      "\n",
      "           0       0.87      0.95      0.91        77\n",
      "           1       0.90      0.77      0.83        47\n",
      "\n",
      "    accuracy                           0.88       124\n",
      "   macro avg       0.88      0.86      0.87       124\n",
      "weighted avg       0.88      0.88      0.88       124\n",
      "\n"
     ]
    }
   ],
   "source": [
    "y_pred = rf.predict(X_val)\n",
    "print(classification_report(y_val,y_pred))"
   ]
  },
  {
   "cell_type": "markdown",
   "id": "b5432903",
   "metadata": {},
   "source": [
    "Accuracy drops from 92% to 88% between our Training set and Validate set. Could be a sign of overfitting even though Random Forests are more resistant to it than Decision Trees"
   ]
  },
  {
   "cell_type": "code",
   "execution_count": 24,
   "id": "aba03a44",
   "metadata": {},
   "outputs": [
    {
     "data": {
      "text/plain": [
       "array([[73,  4],\n",
       "       [11, 36]])"
      ]
     },
     "execution_count": 24,
     "metadata": {},
     "output_type": "execute_result"
    }
   ],
   "source": [
    "confusion_matrix(y_val,y_pred)"
   ]
  },
  {
   "cell_type": "markdown",
   "id": "6cf9380a",
   "metadata": {},
   "source": [
    "Increasing  min_samples_leaf and decreasing max_depth"
   ]
  },
  {
   "cell_type": "markdown",
   "id": "488fc291",
   "metadata": {},
   "source": [
    "### min_samples_leaf = 3, max_depth = 7"
   ]
  },
  {
   "cell_type": "markdown",
   "id": "bf587d46",
   "metadata": {},
   "source": [
    "Training Set"
   ]
  },
  {
   "cell_type": "code",
   "execution_count": 28,
   "id": "e4a6b55b",
   "metadata": {},
   "outputs": [
    {
     "name": "stdout",
     "output_type": "stream",
     "text": [
      "[[414  25]\n",
      " [ 79 193]]\n",
      "              precision    recall  f1-score   support\n",
      "\n",
      "           0       0.84      0.94      0.89       439\n",
      "           1       0.89      0.71      0.79       272\n",
      "\n",
      "    accuracy                           0.85       711\n",
      "   macro avg       0.86      0.83      0.84       711\n",
      "weighted avg       0.86      0.85      0.85       711\n",
      "\n"
     ]
    }
   ],
   "source": [
    "rf = RandomForestClassifier(min_samples_leaf = 3, max_depth = 7)\n",
    "rf = rf.fit(X_train,y_train)\n",
    "y_pred = rf.predict(X_train)\n",
    "print(confusion_matrix(y_train,y_pred))\n",
    "print(classification_report(y_train,y_pred))"
   ]
  },
  {
   "cell_type": "markdown",
   "id": "bb49e353",
   "metadata": {},
   "source": [
    "Validate Set"
   ]
  },
  {
   "cell_type": "code",
   "execution_count": 34,
   "id": "e685ff76",
   "metadata": {},
   "outputs": [
    {
     "name": "stdout",
     "output_type": "stream",
     "text": [
      "              precision    recall  f1-score   support\n",
      "\n",
      "           0       0.86      0.91      0.89        77\n",
      "           1       0.84      0.77      0.80        47\n",
      "\n",
      "    accuracy                           0.85       124\n",
      "   macro avg       0.85      0.84      0.84       124\n",
      "weighted avg       0.85      0.85      0.85       124\n",
      "\n",
      "[[70  7]\n",
      " [11 36]]\n"
     ]
    }
   ],
   "source": [
    "y_pred = rf.predict(X_val)\n",
    "print(classification_report(y_val,y_pred))\n",
    "print(confusion_matrix(y_val,y_pred))"
   ]
  },
  {
   "cell_type": "markdown",
   "id": "58b1d9c7",
   "metadata": {},
   "source": [
    "### min_samples_leaf = 5, max_depth =5"
   ]
  },
  {
   "cell_type": "markdown",
   "id": "c6d5b9e0",
   "metadata": {},
   "source": [
    "Training Data"
   ]
  },
  {
   "cell_type": "code",
   "execution_count": 35,
   "id": "0d21a89a",
   "metadata": {},
   "outputs": [
    {
     "name": "stdout",
     "output_type": "stream",
     "text": [
      "[[407  32]\n",
      " [100 172]]\n",
      "              precision    recall  f1-score   support\n",
      "\n",
      "           0       0.80      0.93      0.86       439\n",
      "           1       0.84      0.63      0.72       272\n",
      "\n",
      "    accuracy                           0.81       711\n",
      "   macro avg       0.82      0.78      0.79       711\n",
      "weighted avg       0.82      0.81      0.81       711\n",
      "\n"
     ]
    }
   ],
   "source": [
    "rf = RandomForestClassifier(min_samples_leaf = 5, max_depth =5)\n",
    "rf = rf.fit(X_train,y_train)\n",
    "y_pred = rf.predict(X_train)\n",
    "print(confusion_matrix(y_train,y_pred))\n",
    "print(classification_report(y_train,y_pred))"
   ]
  },
  {
   "cell_type": "markdown",
   "id": "434ee2a7",
   "metadata": {},
   "source": [
    "Validate Set"
   ]
  },
  {
   "cell_type": "code",
   "execution_count": 36,
   "id": "dcfba95e",
   "metadata": {},
   "outputs": [
    {
     "name": "stdout",
     "output_type": "stream",
     "text": [
      "              precision    recall  f1-score   support\n",
      "\n",
      "           0       0.84      0.94      0.88        77\n",
      "           1       0.87      0.70      0.78        47\n",
      "\n",
      "    accuracy                           0.85       124\n",
      "   macro avg       0.85      0.82      0.83       124\n",
      "weighted avg       0.85      0.85      0.84       124\n",
      "\n",
      "[[72  5]\n",
      " [14 33]]\n"
     ]
    }
   ],
   "source": [
    "y_pred = rf.predict(X_val)\n",
    "print(classification_report(y_val,y_pred))\n",
    "print(confusion_matrix(y_val,y_pred))"
   ]
  },
  {
   "cell_type": "code",
   "execution_count": null,
   "id": "49b16c8c",
   "metadata": {},
   "outputs": [],
   "source": []
  }
 ],
 "metadata": {
  "kernelspec": {
   "display_name": "Python 3 (ipykernel)",
   "language": "python",
   "name": "python3"
  },
  "language_info": {
   "codemirror_mode": {
    "name": "ipython",
    "version": 3
   },
   "file_extension": ".py",
   "mimetype": "text/x-python",
   "name": "python",
   "nbconvert_exporter": "python",
   "pygments_lexer": "ipython3",
   "version": "3.9.7"
  }
 },
 "nbformat": 4,
 "nbformat_minor": 5
}
